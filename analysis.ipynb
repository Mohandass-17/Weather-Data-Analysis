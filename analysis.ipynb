import pandas as pd
#Reading the csv file
df=pd.read_csv('1. Weather Data.csv')

df

print(df.shape)

print(df.isnull().sum())
df.dropna() 
df.dropna(axis=1) 

weather=df['Weather'].value_counts()
dfweather=pd.DataFrame(weather)
dfweather = dfweather.reset_index()
dfweather.columns = ['Weather', 'Frequency'] # change column names
dfweather

df.rename(columns = {'Weather' : 'Weather_Condition'}, inplace=False)

print(df['Temp_C'].mean())
print(df['Wind Speed_km/h'].mean())
print(df['Visibility_km'].mean())

print(df['Press_kPa'].var())

windspeed=df[(df['Wind Speed_km/h'] <=30) & (df['Temp_C']>0)]
print(windspeed['Date/Time'])
print(windspeed.shape)

snow=df[df['Weather'] == 'Snow']
snow.loc[:, ['Date/Time', 'Temp_C']]

import matplotlib.pyplot as plt
import numpy as np
%matplotlib inline

graph=df[['Temp_C', 'Date/Time']]
graph.plot(x='Date/Time', y='Temp_C',figsize=(10,7) )

keep=dfweather[dfweather['Frequency']>20]
print(keep)
keep.plot.pie(y='Frequency',autopct='%1.1f%%', shadow=False, figsize=(12,9))
plt.title("W

